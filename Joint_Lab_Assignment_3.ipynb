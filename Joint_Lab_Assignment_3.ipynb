{
  "nbformat": 4,
  "nbformat_minor": 0,
  "metadata": {
    "accelerator": "GPU",
    "colab": {
      "name": "Joint Lab Assignment 3.ipynb",
      "provenance": [],
      "collapsed_sections": []
    },
    "kernelspec": {
      "display_name": "Python 3",
      "name": "python3"
    }
  },
  "cells": [
    {
      "cell_type": "markdown",
      "metadata": {
        "id": "cCWD3MQ9JIKY"
      },
      "source": [
        "Author: Yu Bai, Yutian Chen, Tianxiao Wei"
      ]
    },
    {
      "cell_type": "code",
      "metadata": {
        "id": "jFUm2rT_I-pI"
      },
      "source": [
        "import numpy as np\n",
        "import matplotlib.pyplot as plt\n",
        "import pandas as pd\n",
        "import csv\n",
        "np.set_printoptions(precision=2)"
      ],
      "execution_count": 2,
      "outputs": []
    },
    {
      "cell_type": "code",
      "metadata": {
        "id": "YEoz-_LDMTvk"
      },
      "source": [
        "delta_t = 0.001\n",
        "pi = np.pi\n",
        "\n",
        "def pwm2rot(pwm):\n",
        "        # maps from PWM to rotational speed in rad/s\n",
        "        return pwm * 100 * 2 * pi / 60"
      ],
      "execution_count": 3,
      "outputs": []
    },
    {
      "cell_type": "code",
      "metadata": {
        "id": "3ocGDLZ6cL8e"
      },
      "source": [
        "class envir:\n",
        "    # the environment is a rectangular consisting 4 walls bounding an open space\n",
        "    # the positions of the walls are x=0, y=0, x=length, y=width\n",
        "    def __init__(self, length, width):\n",
        "        self.length = length\n",
        "        self.width = width"
      ],
      "execution_count": 4,
      "outputs": []
    },
    {
      "cell_type": "code",
      "metadata": {
        "id": "809HS9lmJRRv"
      },
      "source": [
        "class robot:\n",
        "\n",
        "    def __init__(self, envir, width, diameter, x0 = 0, y0 = 0, theta0 = 0, ifOutput = True, ifPlot = True):\n",
        "        self.envir = envir\n",
        "        self.width = width\n",
        "        self.diameter = diameter\n",
        "        self.x = x0\n",
        "        self.y = y0\n",
        "        self.theta = theta0\n",
        "        self.front_dist = 0\n",
        "        self.right_dist = 0\n",
        "        self.rot_speed = 0\n",
        "        self.ns_mag_field = 0\n",
        "        self.ew_mag_field = 0\n",
        "        self.update_sensor()\n",
        "        self.measure()\n",
        "        if ifOutput:\n",
        "            self.output()\n",
        "        if ifPlot:\n",
        "            self.plot()\n",
        "\n",
        "    def move(self, pwm_l, pwm_r, ifOutput = True, ifPlot = True):\n",
        "        width = self.width\n",
        "        theta = self.theta\n",
        "        # map from PWM to rotation speed\n",
        "        rot_l = pwm2rot(pwm_l)\n",
        "        rot_r = pwm2rot(pwm_r)\n",
        "\n",
        "        # B is the matrix in x(t+1) = A*x(t) + B*u(t)\n",
        "        B = delta_t * self.diameter/2 * np.array([[1/2 * np.cos(theta), 1/2 * np.cos(theta)],[1/2 * np.sin(theta), 1/2 * np.sin(theta)], [-1/width, 1/width]])\n",
        "        # input is the input vector u(t)\n",
        "        input = np.array([[rot_l],[rot_r]])\n",
        "\n",
        "        # if the potential destination is out of the envrionment (blocked by a wall), it will not move\n",
        "        [[pot_x], [pot_y], [pot_theta]] = [[self.x], [self.y], [self.theta]] + B.dot(input)\n",
        "        # if pot_x < 0 or pot_x > self.envir.length or pot_y < 0 or pot_y > self.envir.width:\n",
        "        #     # print(\"The robot didn't move because it is out of bound\")\n",
        "        #     if ifOutput:\n",
        "        #         self.output()\n",
        "        #     if ifPlot:\n",
        "        #         self.plot()\n",
        "        #     return\n",
        "\n",
        "        # updates the system state with x(t+1) = A*x(t) + B*u(t)\n",
        "        [self.x, self.y, self.theta] = [pot_x, pot_y, pot_theta]\n",
        "\n",
        "        # reduce theta to be in the range of [-pi,pi)\n",
        "        self.theta = np.remainder(self.theta, 2*pi)\n",
        "        self.update_sensor() # update the sensors\n",
        "        # updates the rotational speed\n",
        "        self.rot_speed = self.diameter/(2 * width) * (rot_r - rot_l)\n",
        "        self.measure() # provide sensor outputs\n",
        "        if ifOutput:\n",
        "            self.output()\n",
        "        if ifPlot:\n",
        "            self.plot()\n",
        "\n",
        "    def update_sensor(self):\n",
        "        # update the equations for the sensor lasers\n",
        "        # y = mf*x + bf describes the laser from the front sensor\n",
        "        # note that np.tan() will never be undefined due to the limitations of computer calculation,\n",
        "        # thus we will have always have the function y = mf*x + bf for all states\n",
        "        self.mf = np.tan(self.theta)\n",
        "        self.bf = self.y - self.mf * self.x\n",
        "        # y = mr*x + br describes the laser from the right sensor\n",
        "        self.mr = np.tan(self.theta - pi/2)\n",
        "        self.br = self.y - self.mr * self.x\n",
        "\n",
        "    def measure(self):\n",
        "        # in simulation, instead of directly obtaining outputs from the sensors, we calculate the sensor outputs with current state, input, and noise\n",
        "        # calculate the intersection and distance between the front laser and the rectangular walls\n",
        "        # if we know the x-coordinate of the wall, y = mx + b\n",
        "        # if we know the y-coordinate of the wall, x = (y-b)/m\n",
        "        l = self.envir.length\n",
        "        w = self.envir.width\n",
        "        mf = self.mf\n",
        "        bf = self.bf\n",
        "        mr = self.mr\n",
        "        br = self.br\n",
        "\n",
        "        # front_inter[0] to front_inter[4] are the intersections with the walls on the right, top, left, buttom, right\n",
        "        # front_inter[4] is used to simplify calculations\n",
        "        front_inter = np.zeros((5,2))\n",
        "        if l*mf+bf >=0 and l*mf+bf <= w:\n",
        "            front_inter[0] = [l, l*mf+bf]\n",
        "            front_inter[4] = [l, l*mf+bf]\n",
        "        if (w-bf)/mf >= 0 and (w-bf)/mf <= l: \n",
        "            front_inter[1] = [(w-bf)/mf, w]\n",
        "        if bf >=0 and bf <= w:\n",
        "            front_inter[2] = [0, bf]\n",
        "        if -bf/mf >= 0 and -bf/mf <= l:\n",
        "            front_inter[3] = [-bf/mf, 0]\n",
        "\n",
        "        # if 0 <= theta < pi/2, we only need to consider the intersection with the right or top wall\n",
        "        # if pi/2 <= theta < pi, we only need to consider the intersection with the top or left wall\n",
        "        # if pi <= theta < 3pi/2, we only need to consider the intersection with the left or buttom wall\n",
        "        # if 3pi/2 <= theta < 2pi, we only need to consider the intersection with the buttom or right wall\n",
        "        # therefore, we use np.floor(theta/(pi/2)) to determine which walls need to be considered\n",
        "        # since the laser y=mx+b will only intersect with one of the two adajacent walls, and the coordinate is set to [0,0] if there is no intersection,\n",
        "        # we can directly compute the intersection by adding the values of adjacent rows in front_inter\n",
        "        idx = int(np.floor(self.theta/(pi/2)))\n",
        "        if idx == 4: # this could happen with rounding errors\n",
        "            idx = 0\n",
        "        front_inter_loc = front_inter[idx] + front_inter[idx+1]\n",
        "        self.front_dist = np.sqrt(np.power(self.x-front_inter_loc[0],2) + np.power(self.y-front_inter_loc[1],2))\n",
        "\n",
        "        # right_inter[0] to right_inter[4] are the intersections with the walls on the buttom, right, top, left, buttom\n",
        "        # right_inter[4] is used to simply future calculations  \n",
        "        right_inter = np.zeros((5,2))\n",
        "        if -br/mr >= 0 and -br/mr <= l:\n",
        "            right_inter[0] = [-br/mr, 0]\n",
        "            right_inter[4] = [-br/mr, 0]\n",
        "        if l*mr+br >=0 and l*mr+br <= w:\n",
        "            right_inter[1] = [l, l*mr+br]\n",
        "        if (w-br)/mr >= 0 and (w-br)/mr <= l: \n",
        "            right_inter[2] = [(w-br)/mr, w]\n",
        "        if br >=0 and br <= w:\n",
        "            right_inter[3] = [0, br]\n",
        "\n",
        "        # similar to the calculation of the front intersection\n",
        "        idx = int(np.floor(self.theta/(pi/2)))\n",
        "        if idx == 4: # this could happen with rounding errors\n",
        "            idx = 0\n",
        "        right_inter_loc = right_inter[idx] + right_inter[idx+1]\n",
        "        self.right_dist = np.sqrt(np.power(self.x-right_inter_loc[0],2) + np.power(self.y-right_inter_loc[1],2))\n",
        "\n",
        "\n",
        "        # calculate the north-south and east-west magnetic field\n",
        "        self.ns_mag_field = np.sin(self.theta)\n",
        "        self.ew_mag_field = np.cos(self.theta)\n",
        "\n",
        "\n",
        "    def output(self):\n",
        "        print(\"x, y, theta                = \", ', '.join(str(i) for i in [self.x, self.y, self.theta]))\n",
        "        print(\"front distance             = \", self.front_dist)\n",
        "        print(\"right distance             = \", self.right_dist)\n",
        "        print(\"rotational speed           = \", self.rot_speed)\n",
        "        print(\"north-south magnetic field = \", self.ns_mag_field)\n",
        "        print(\"east-west magnetic field   = \", self.ew_mag_field)\n",
        "\n",
        "    def plot(self):\n",
        "        plt.figure(figsize = (10,10))\n",
        "        # plot the rectangular environment\n",
        "        plt.vlines(x=[0, self.envir.length], ymin=0, ymax=self.envir.width)\n",
        "        plt.hlines(y=[0, self.envir.width], xmin=0, xmax=self.envir.length)\n",
        "        # plot the position of the robot\n",
        "        plt.plot(self.x, self.y, 'ro')\n",
        "        # plot the front and right sensor\n",
        "        plt.quiver([self.x, self.x], [self.y, self.y],[np.cos(self.theta), np.sin(self.theta)], [np.cos(self.theta-pi/2), np.sin(self.theta-pi/2)], \n",
        "                   angles='xy', scale_units='xy', scale=1)\n",
        "        plt.show()"
      ],
      "execution_count": 5,
      "outputs": []
    },
    {
      "cell_type": "markdown",
      "metadata": {
        "id": "8Pw4mfyq_E_K"
      },
      "source": [
        "## Joint Lab 3\n"
      ]
    },
    {
      "cell_type": "code",
      "metadata": {
        "colab": {
          "base_uri": "https://localhost:8080/"
        },
        "id": "lV8jNLTiIdAP",
        "outputId": "6d4c23c2-0dfa-4336-ab97-2413712345be"
      },
      "source": [
        "from google.colab import drive\n",
        "drive.mount('/content/drive')"
      ],
      "execution_count": 6,
      "outputs": [
        {
          "output_type": "stream",
          "text": [
            "Mounted at /content/drive\n"
          ],
          "name": "stdout"
        }
      ]
    },
    {
      "cell_type": "markdown",
      "metadata": {
        "id": "rdw2V30a5Ekf"
      },
      "source": [
        "get_control_signals returns a n*2 matrix of the inputs to the simulation system\n"
      ]
    },
    {
      "cell_type": "code",
      "metadata": {
        "id": "FKqfmhpLf26q"
      },
      "source": [
        "def get_control_signals(trajectory_num):\n",
        "    data = pd.read_csv('/content/drive/My Drive/Joint Lab 3 Data/trajectory.csv',usecols=['L'+str(trajectory_num),'R'+str(trajectory_num)])\n",
        "    data = data.to_numpy()/600\n",
        "    control_signals = np.zeros((10*1000,2))\n",
        "    for i in range(20):\n",
        "        v_init = data[i]\n",
        "        v_end = data[i+1]\n",
        "        for j in range(500):\n",
        "            v = v_init + (v_end - v_init)*j/500\n",
        "            control_signals[i*500+j] = v\n",
        "    return control_signals"
      ],
      "execution_count": 7,
      "outputs": []
    },
    {
      "cell_type": "markdown",
      "metadata": {
        "id": "vNeV_mb35TdL"
      },
      "source": [
        "SEGWAY \\\\\n",
        "This block compares simulations for the first 16 trajectories. \\\\\n",
        "Plots and a table of cosine similarities are generated\n"
      ]
    },
    {
      "cell_type": "code",
      "metadata": {
        "id": "psEtQKjAU2zs"
      },
      "source": [
        "cos_sim = np.zeros((16,8))\n",
        "for j in range(16):\n",
        "    trajectory_num = j+1\n",
        "    e = envir(10,10)\n",
        "    segway = robot(e,width=0.53,diameter=0.502,x0=5,y0=5,theta0=0,ifOutput=False,ifPlot=False) # initial conditions for robots\n",
        "    data_py = np.zeros((8,10000))\n",
        "\n",
        "    # run the python simulation and records data\n",
        "    control_signals = get_control_signals(trajectory_num)\n",
        "    for i in range(10000):\n",
        "        v_l = control_signals[i][0]\n",
        "        v_r = control_signals[i][1]\n",
        "        segway.move(v_l,v_r,ifOutput=False,ifPlot=False)\n",
        "        data_py[0][i] = segway.x-5\n",
        "        data_py[1][i] = segway.y-5\n",
        "        data_py[2][i] = segway.theta\n",
        "        data_py[3][i] = segway.front_dist\n",
        "        data_py[4][i] = segway.right_dist\n",
        "        data_py[5][i] = segway.rot_speed\n",
        "        data_py[6][i] = segway.ns_mag_field\n",
        "        data_py[7][i] = segway.ew_mag_field\n",
        "\n",
        "    # theta_py = theta_py * (theta_py <= pi) + (theta_py-2*pi) * (theta_py > pi)\n",
        "    data_py[2] = data_py[2] * (data_py[2] <= pi) + (data_py[2]-2*pi) * (data_py[2] > pi)\n",
        "\n",
        "    data_wb = np.zeros((8,10000))\n",
        "    # read data from webot simulation\n",
        "    # x,y,theta,front distance,right distance,rotational speed,ns magnetic field,ew magnetic field\n",
        "    with open('/content/drive/My Drive/Joint Lab 3 Data/data' + str(trajectory_num) + '.csv', 'r') as file:\n",
        "        reader = csv.reader(file)\n",
        "        for i, row in enumerate(reader):\n",
        "            data_wb[i] = row\n",
        "\n",
        "    cos_sim[j] = np.sum(data_py*data_wb,axis=1) / (np.linalg.norm(data_py,axis=1) * np.linalg.norm(data_wb,axis=1))\n",
        "\n",
        "    # if trajectory_num in [13,14,15,16]:\n",
        "    plt.plot(data_py[0],data_py[1])\n",
        "    plt.title('Python Simulation for Trajectory ' + str(trajectory_num))\n",
        "    plt.savefig('/content/drive/My Drive/Joint Lab 3 Data/plots/segway_py_' + str(trajectory_num))\n",
        "    plt.show()\n",
        "    plt.plot(data_wb[0],data_wb[1])\n",
        "    plt.title('Webot Simulation for Trajectory ' + str(trajectory_num))\n",
        "    plt.savefig('/content/drive/My Drive/Joint Lab 3 Data/plots/segway_wb_' + str(trajectory_num))\n",
        "    plt.show()\n",
        "\n",
        "\n",
        "print(cos_sim)\n",
        "np.savetxt('/content/drive/My Drive/Joint Lab 3 Data/output.csv', cos_sim, delimiter=\",\")"
      ],
      "execution_count": null,
      "outputs": []
    },
    {
      "cell_type": "markdown",
      "metadata": {
        "id": "w9bizwwN5ihN"
      },
      "source": [
        "This block compares simulations, from trajectory 17, 18 and 19, that have different (divergent path) behaviors \\\\\n",
        "1. moves in a straight line and hit the wall (environment) \\\\\n",
        "2. the acceleration of the angular velocities of the wheels is too high (accelerating too fast) \\\\\n",
        "3. the torque applied to the robot is too high (making sharp turns)"
      ]
    },
    {
      "cell_type": "code",
      "metadata": {
        "id": "KC9lgCXxhUQl"
      },
      "source": [
        "cos_sim = np.zeros((16,8))\n",
        "for trajectory_num in [17,18,19]:\n",
        "    e = envir(10,10)\n",
        "    segway = robot(e,width=0.53,diameter=0.502,x0=5,y0=5,theta0=0,ifOutput=False,ifPlot=False) # initial conditions for robots\n",
        "    data_py = np.zeros((8,10000))\n",
        "\n",
        "    # run the python simulation and records data\n",
        "    control_signals = get_control_signals(trajectory_num)\n",
        "    for i in range(10000):\n",
        "        v_l = control_signals[i][0]\n",
        "        v_r = control_signals[i][1]\n",
        "        segway.move(v_l,v_r,ifOutput=False,ifPlot=False)\n",
        "        data_py[0][i] = segway.x-5\n",
        "        data_py[1][i] = segway.y-5\n",
        "        data_py[2][i] = segway.theta\n",
        "        data_py[3][i] = segway.front_dist\n",
        "        data_py[4][i] = segway.right_dist\n",
        "        data_py[5][i] = segway.rot_speed\n",
        "        data_py[6][i] = segway.ns_mag_field\n",
        "        data_py[7][i] = segway.ew_mag_field\n",
        "\n",
        "    # theta_py = theta_py * (theta_py <= pi) + (theta_py-2*pi) * (theta_py > pi)\n",
        "    data_py[2] = data_py[2] * (data_py[2] <= pi) + (data_py[2]-2*pi) * (data_py[2] > pi)\n",
        "\n",
        "    data_wb = np.zeros((8,10000))\n",
        "    # read data from webot simulation\n",
        "    # x,y,theta,front distance,right distance,rotational speed,ns magnetic field,ew magnetic field\n",
        "    with open('/content/drive/My Drive/Joint Lab 3 Data/data' + str(trajectory_num) + '.csv', 'r') as file:\n",
        "        reader = csv.reader(file)\n",
        "        for i, row in enumerate(reader):\n",
        "            data_wb[i] = row\n",
        "\n",
        "    cos_sim[trajectory_num-17] = np.sum(data_py*data_wb,axis=1) / (np.linalg.norm(data_py,axis=1) * np.linalg.norm(data_wb,axis=1))\n",
        "\n",
        "    plt.plot(data_py[0],data_py[1])\n",
        "    plt.title('Python Simulation for Trajectory ' + str(trajectory_num))\n",
        "    plt.savefig('/content/drive/My Drive/Joint Lab 3 Data/plots/*segway_py_' + str(trajectory_num))\n",
        "    plt.show()\n",
        "    plt.plot(data_wb[0],data_wb[1])\n",
        "    plt.title('Webot Simulation for Trajectory ' + str(trajectory_num))\n",
        "    plt.savefig('/content/drive/My Drive/Joint Lab 3 Data/plots/*segway_wb_' + str(trajectory_num))\n",
        "    plt.show()"
      ],
      "execution_count": null,
      "outputs": []
    },
    {
      "cell_type": "markdown",
      "metadata": {
        "id": "Ssq2dK3ebS-j"
      },
      "source": [
        "PAPERBOT"
      ]
    },
    {
      "cell_type": "code",
      "metadata": {
        "id": "UR3LFXFC8Ci8"
      },
      "source": [
        "cos_sim = np.zeros((3,8))\n",
        "diff = np.zeros((3,8))\n",
        "for j in range(3):\n",
        "    trajectory_num = j+1\n",
        "    e = envir(1,1)\n",
        "    paperbot = robot(e,width=0.09,diameter=0.050,x0=5,y0=5,theta0=0,ifOutput=False,ifPlot=False) # initial conditions for robots\n",
        "    data_py = np.zeros((8,10000))\n",
        "\n",
        "    # run the python simulation and records data\n",
        "    control_signals = get_control_signals(trajectory_num)\n",
        "    for i in range(10000):\n",
        "        v_l = control_signals[i][0]\n",
        "        v_r = control_signals[i][1]\n",
        "        paperbot.move(v_l,v_r,ifOutput=False,ifPlot=False)\n",
        "        data_py[0][i] = paperbot.x-5\n",
        "        data_py[1][i] = paperbot.y-5\n",
        "        data_py[2][i] = paperbot.theta\n",
        "        data_py[3][i] = paperbot.front_dist\n",
        "        data_py[4][i] = paperbot.right_dist\n",
        "        data_py[5][i] = paperbot.rot_speed\n",
        "        data_py[6][i] = paperbot.ns_mag_field\n",
        "        data_py[7][i] = paperbot.ew_mag_field\n",
        "\n",
        "    # theta_py = theta_py * (theta_py <= pi) + (theta_py-2*pi) * (theta_py > pi)\n",
        "    data_py[2] = data_py[2] * (data_py[2] <= pi) + (data_py[2]-2*pi) * (data_py[2] > pi)\n",
        "\n",
        "    data_wb = np.zeros((8,10000))\n",
        "    # read data from webot simulation\n",
        "    # x,y,theta,front distance,right distance,rotational speed,ns magnetic field,ew magnetic field\n",
        "    with open('/content/drive/My Drive/ECE183DA/Joint Lab 3 Data/data' + str(trajectory_num) + '.csv', 'r') as file:\n",
        "        reader = csv.reader(file)\n",
        "        for i, row in enumerate(reader):\n",
        "            data_wb[i] = row\n",
        "\n",
        "    cos_sim[j] = np.sum(data_py*data_wb,axis=1) / (np.linalg.norm(data_py,axis=1) * np.linalg.norm(data_wb,axis=1))\n",
        "\n",
        "    # if trajectory_num in [13,14,15,16]:\n",
        "    plt.plot(data_py[0],data_py[1])\n",
        "    plt.title('Python Simulation for Trajectory ' + str(trajectory_num))\n",
        "    plt.savefig('/content/drive/My Drive/ECE183DA/Joint Lab 3 Data/plots/paperbot_py_' + str(trajectory_num))\n",
        "    plt.show()\n",
        "    plt.plot(data_wb[0],data_wb[1])\n",
        "    plt.title('Webots Simulation for Trajectory ' + str(trajectory_num))\n",
        "    plt.savefig('/content/drive/My Drive/ECE183DA/Joint Lab 3 Data/plots/paperbot_wb_' + str(trajectory_num))\n",
        "    plt.show()\n",
        "\n",
        "\n",
        "print(cos_sim)\n",
        "np.savetxt('/content/drive/My Drive/ECE183DA/Joint Lab 3 Data/output.csv', cos_sim, delimiter=\",\")"
      ],
      "execution_count": null,
      "outputs": []
    },
    {
      "cell_type": "code",
      "metadata": {
        "id": "80pkMC_1bV2J"
      },
      "source": [
        "test = [1]\n",
        "for j in test:\n",
        "    trajectory_num = j+1\n",
        "    e = envir(10,10)\n",
        "    paperbot = robot(e,width=0.53,diameter=0.502,x0=5,y0=5,theta0=0,ifOutput=False,ifPlot=False) # initial conditions for robots\n",
        "    data_py = np.zeros((8,10000))\n",
        "\n",
        "    # run the python simulation and records data\n",
        "    control_signals = get_control_signals(trajectory_num)\n",
        "    for i in range(10000):\n",
        "        v_l = control_signals[i][0]\n",
        "        v_r = control_signals[i][1]\n",
        "        paperbot.move(v_l,v_r,ifOutput=False,ifPlot=False)\n",
        "        data_py[0][i] = paperbot.x-5\n",
        "        data_py[1][i] = paperbot.y-5\n",
        "        data_py[2][i] = paperbot.theta\n",
        "        data_py[3][i] = paperbot.front_dist\n",
        "        data_py[4][i] = paperbot.right_dist\n",
        "        data_py[5][i] = paperbot.rot_speed\n",
        "        data_py[6][i] = paperbot.ns_mag_field\n",
        "        data_py[7][i] = paperbot.ew_mag_field\n",
        "\n",
        "    # theta_py = theta_py * (theta_py <= pi) + (theta_py-2*pi) * (theta_py > pi)\n",
        "    data_py[2] = data_py[2] * (data_py[2] <= pi) + (data_py[2]-2*pi) * (data_py[2] > pi)\n",
        "\n",
        "    data_wb = np.zeros((8,10000))\n",
        "    # read data from webot simulation\n",
        "    # x,y,theta,front distance,right distance,rotational speed,ns magnetic field,ew magnetic field\n",
        "    with open('/content/drive/My Drive/ECE183DA/Joint Lab 3 Data/data' + str(trajectory_num) + '.csv', 'r') as file:\n",
        "        reader = csv.reader(file)\n",
        "        for i, row in enumerate(reader):\n",
        "            data_wb[i] = row\n",
        "    \n",
        "    cos_sim = np.sum(data_py*data_wb,axis=1) / (np.linalg.norm(data_py,axis=1) * np.linalg.norm(data_wb,axis=1))\n",
        "    print(cos_sim)\n",
        "\n",
        "    # if trajectory_num in [13,14,15,16]:\n",
        "    plt.plot(data_py[0],data_py[1])\n",
        "    plt.title('Python Simulation for Trajectory ' + str(trajectory_num))\n",
        "    plt.show()\n",
        "    plt.plot(data_wb[0],data_wb[1])\n",
        "    plt.title('Webots Simulation for Trajectory ' + str(trajectory_num))\n",
        "    plt.show()"
      ],
      "execution_count": null,
      "outputs": []
    }
  ]
}